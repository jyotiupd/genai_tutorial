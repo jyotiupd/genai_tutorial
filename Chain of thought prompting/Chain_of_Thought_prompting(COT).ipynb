{
 "cells": [
  {
   "cell_type": "code",
   "execution_count": null,
   "metadata": {
    "id": "0Zffj1Za75gH"
   },
   "outputs": [],
   "source": [
    "!pip install openai langchain"
   ]
  },
  {
   "cell_type": "code",
   "execution_count": 2,
   "metadata": {
    "id": "shcSlZul7-Nm"
   },
   "outputs": [],
   "source": [
    "import os\n",
    "import langchain\n",
    "import openai\n",
    "\n",
    "from langchain.agents import create_pandas_dataframe_agent\n",
    "from langchain.chat_models import ChatOpenAI\n",
    "from langchain.agents.agent_types import AgentType"
   ]
  },
  {
   "cell_type": "code",
   "execution_count": 3,
   "metadata": {
    "id": "vEZVX8IQ7-P-"
   },
   "outputs": [],
   "source": [
    "os.environ[\"OPENAI_API_KEY\"] = ''  ##Amol\n",
    "openai.api_key = os.getenv(\"OPENAI_API_KEY\")"
   ]
  },
  {
   "cell_type": "markdown",
   "metadata": {
    "id": "spTMyaz9WQQc"
   },
   "source": [
    "###chain of thought example"
   ]
  },
  {
   "cell_type": "markdown",
   "metadata": {
    "id": "RAqSNJ17WUYc"
   },
   "source": [
    "without chain of thought"
   ]
  },
  {
   "cell_type": "code",
   "execution_count": 5,
   "metadata": {
    "colab": {
     "base_uri": "https://localhost:8080/"
    },
    "id": "hJzN_PAJUhzn",
    "outputId": "b60132a0-6e4e-4b72-f559-9b25e1eafb2c"
   },
   "outputs": [
    {
     "name": "stdout",
     "output_type": "stream",
     "text": [
      "Option 1 would be faster as it adds up to 1000 + 30 + 10 = 1040 minutes compared to Option 2, which adds up to 800 + 60 + 30 = 890 minutes."
     ]
    }
   ],
   "source": [
    "question= \"\"\"Which is a faster way to get to work?\n",
    "Option 1: Take a 1000 minute bus, then a half hour train, and finally a 10 minute bike ride.\n",
    "Option 2: Take an 800 minute bus, then an hour train, and finally a 30 minute bike ride.\"\"\"\n",
    "\n",
    "for chunk in openai.ChatCompletion.create(\n",
    "    model=\"gpt-3.5-turbo\",\n",
    "    messages=[{\n",
    "        \"role\": \"user\",\n",
    "        \"content\": question\n",
    "    }],\n",
    "    stream=True,\n",
    "):\n",
    "    content = chunk[\"choices\"][0].get(\"delta\", {}).get(\"content\")\n",
    "    if content is not None:\n",
    "        print(content, end='')"
   ]
  },
  {
   "cell_type": "markdown",
   "metadata": {
    "id": "olYpaWMeWmxP"
   },
   "source": [
    "without giving chain of thought reasoning in the prompt, model failed to answer correctly. correct answer should have been option 2"
   ]
  },
  {
   "cell_type": "markdown",
   "metadata": {
    "id": "G5XscOg_WbNm"
   },
   "source": [
    "Example with chain of thought prompt"
   ]
  },
  {
   "cell_type": "code",
   "execution_count": 6,
   "metadata": {
    "colab": {
     "base_uri": "https://localhost:8080/"
    },
    "id": "NEQnUhdNVuBw",
    "outputId": "9d4f3469-f515-48e0-df9f-01bc5e452f51"
   },
   "outputs": [
    {
     "name": "stdout",
     "output_type": "stream",
     "text": [
      "Option 1 will take 1000+30+10 = 1040 minutes.\n",
      "Option 2 will take 800+60+30 = 890 minutes.\n",
      "\n",
      "Since Option 2 takes 890 minutes and Option 1 takes 1040 minutes, Option 2 is faster."
     ]
    }
   ],
   "source": [
    "question= \"\"\"Which is a faster way to get home?\n",
    "Option 1: Take an 10 minutes bus, then an 40 minute bus, and finally a 10 minute train.\n",
    "Option 2: Take a 90 minutes train, then a 45 minute bike ride, and finally a 10 minute bus.\n",
    "Option 1 will take 10+40+10 = 60 minutes.\n",
    "Option 2 will take 90+45+10=145 minutes.\n",
    "\n",
    "Since Option 1 takes 60 minutes and Option 2 takes 145 minutes, Option 1 is faster.\n",
    "\n",
    "Which is a faster way to get to work?\n",
    "Option 1: Take a 1000 minute bus, then a half hour train, and finally a 10 minute bike ride.\n",
    "Option 2: Take an 800 minute bus, then an hour train, and finally a 30 minute bike ride.\"\"\"\n",
    "\n",
    "for chunk in openai.ChatCompletion.create(\n",
    "    model=\"gpt-3.5-turbo\",\n",
    "    messages=[{\n",
    "        \"role\": \"user\",\n",
    "        \"content\": question\n",
    "    }],\n",
    "    stream=True,\n",
    "):\n",
    "    content = chunk[\"choices\"][0].get(\"delta\", {}).get(\"content\")\n",
    "    if content is not None:\n",
    "        print(content, end='')"
   ]
  },
  {
   "cell_type": "markdown",
   "metadata": {
    "id": "LQ179yM5Wy5C"
   },
   "source": [
    "We can see that model followed the reasoning and now able to answer correctly using COT prompt"
   ]
  }
 ],
 "metadata": {
  "colab": {
   "provenance": []
  },
  "kernelspec": {
   "display_name": "Python 3 (ipykernel)",
   "language": "python",
   "name": "python3"
  },
  "language_info": {
   "codemirror_mode": {
    "name": "ipython",
    "version": 3
   },
   "file_extension": ".py",
   "mimetype": "text/x-python",
   "name": "python",
   "nbconvert_exporter": "python",
   "pygments_lexer": "ipython3",
   "version": "3.9.7"
  }
 },
 "nbformat": 4,
 "nbformat_minor": 1
}
