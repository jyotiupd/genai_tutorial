{
 "cells": [
  {
   "cell_type": "code",
   "execution_count": 1,
   "metadata": {},
   "outputs": [],
   "source": [
    "import pandas as pd\n",
    "from langchain.agents import create_pandas_dataframe_agent\n",
    "from langchain.chat_models import AzureChatOpenAI\n",
    "from langchain.agents.agent_types import AgentType\n",
    "from get_env_config import *"
   ]
  },
  {
   "cell_type": "code",
   "execution_count": 2,
   "metadata": {},
   "outputs": [],
   "source": [
    "bs = pd.read_excel(\"./sample.xlsx\",sheet_name=\"Balance_Sheet\")\n",
    "ins = pd.read_excel(\"sample.xlsx\",sheet_name=\"Income_Statement\")\n",
    "cs = pd.read_excel(\"sample.xlsx\",sheet_name=\"Cashflow_Statement\")"
   ]
  },
  {
   "cell_type": "code",
   "execution_count": 3,
   "metadata": {},
   "outputs": [],
   "source": [
    "bs.columns = [str(col) for col in bs.columns]\n",
    "ins.columns = [str(col) for col in ins.columns]\n",
    "cs.columns = [str(col) for col in cs.columns]"
   ]
  },
  {
   "cell_type": "code",
   "execution_count": 4,
   "metadata": {},
   "outputs": [],
   "source": [
    "tables = [bs, ins, cs]"
   ]
  },
  {
   "cell_type": "code",
   "execution_count": 5,
   "metadata": {},
   "outputs": [],
   "source": [
    "llm = AzureChatOpenAI(deployment_name=deployment_id,model=model,temperature=0.0,request_timeout=120)"
   ]
  },
  {
   "cell_type": "code",
   "execution_count": 6,
   "metadata": {},
   "outputs": [],
   "source": [
    "statements_agent = create_pandas_dataframe_agent(llm, tables, verbose=True, handle_parsing_errors = True)"
   ]
  },
  {
   "cell_type": "code",
   "execution_count": 10,
   "metadata": {},
   "outputs": [],
   "source": [
    "user_query = \"What was the total revenue for 2014 and 2015?\""
   ]
  },
  {
   "cell_type": "code",
   "execution_count": 8,
   "metadata": {},
   "outputs": [],
   "source": [
    "prompt = f\"\"\" You are a reporting chatbot. Your task is to provide responses to user queries using the data provided.\n",
    "Do not provide any information that is not a part of the data provided to you. \n",
    "Answer the below user query - \n",
    "\n",
    "user query: {user_query}\n",
    "\"\"\""
   ]
  },
  {
   "cell_type": "code",
   "execution_count": 11,
   "metadata": {},
   "outputs": [
    {
     "name": "stdout",
     "output_type": "stream",
     "text": [
      "\n",
      "\n",
      "\u001b[1m> Entering new AgentExecutor chain...\u001b[0m\n"
     ]
    }
   ],
   "source": [
    "statements_agent.run(prompt)"
   ]
  }
 ],
 "metadata": {
  "kernelspec": {
   "display_name": "test_python_310",
   "language": "python",
   "name": "python3"
  },
  "language_info": {
   "codemirror_mode": {
    "name": "ipython",
    "version": 3
   },
   "file_extension": ".py",
   "mimetype": "text/x-python",
   "name": "python",
   "nbconvert_exporter": "python",
   "pygments_lexer": "ipython3",
   "version": "3.10.9"
  },
  "orig_nbformat": 4,
  "vscode": {
   "interpreter": {
    "hash": "e52b8bf9b84a61c69c3e7bc8c3de4eda40a6ee56ef8b55e2aa659dc94815335d"
   }
  }
 },
 "nbformat": 4,
 "nbformat_minor": 2
}
